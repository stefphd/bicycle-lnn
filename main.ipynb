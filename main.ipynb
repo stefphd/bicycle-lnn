{
  "nbformat": 4,
  "nbformat_minor": 0,
  "metadata": {
    "colab": {
      "provenance": [],
      "authorship_tag": "ABX9TyOxEBt5bLBivspgNYbM2oUc",
      "include_colab_link": true
    },
    "kernelspec": {
      "name": "python3",
      "display_name": "Python 3"
    },
    "language_info": {
      "name": "python"
    }
  },
  "cells": [
    {
      "cell_type": "markdown",
      "metadata": {
        "id": "view-in-github",
        "colab_type": "text"
      },
      "source": [
        "<a href=\"https://colab.research.google.com/github/stefphd/bicycle-lnn/blob/main/main.ipynb\" target=\"_parent\"><img src=\"https://colab.research.google.com/assets/colab-badge.svg\" alt=\"Open In Colab\"/></a>"
      ]
    },
    {
      "cell_type": "markdown",
      "source": [
        "# Lagragian Neural Network for Bycicle Dynamics\n",
        "\n",
        "This code identify the bicycle dynamics using a Lagragian Neural Network, with the method proposed in [this paper](https://arxiv.org/abs/2003.04630). This is similar to the DeLaN method (see [this papar](https://arxiv.org/abs/1907.04490)), with the difference that the method is suitable for system involving Lagragian of different forms, including e.g. non-holonomic contraints (as in the bicycle dynamics). The DeLaN method is instead confined to mechanical systems having potential and kinetic energy only (e.g. standard robots)."
      ],
      "metadata": {
        "id": "HzqtIjHYI4RL"
      }
    },
    {
      "cell_type": "markdown",
      "source": [
        "## Set the Python environment\n",
        "\n",
        "Python 3.7 is being used for compatibility. Here the Python version is forced to be 3.7 (just installation and setting stuff)."
      ],
      "metadata": {
        "id": "LLI1lSISKY8q"
      }
    },
    {
      "cell_type": "code",
      "source": [
        "!sudo apt-get update -y # update repos\n",
        "!sudo apt-get install python3.7 # install python 3.7\n",
        "from IPython.display import clear_output # just to clean the output of Colab\n",
        "clear_output()\n",
        "!sudo update-alternatives --install /usr/bin/python3 python3 /usr/bin/python3.7 1 # set installed python3.7 as python3\n",
        "!sudo apt-get install python-pip # install pip\n",
        "!sudo apt-get install python3.7-distutils # install distutils according to the installer python version\n",
        "clear_output()\n",
        "!python3 --version # check the version"
      ],
      "metadata": {
        "id": "kA_J_cx1Kdx7",
        "outputId": "5e1df0b5-a5cd-472c-b652-b446d973ce8b",
        "colab": {
          "base_uri": "https://localhost:8080/"
        }
      },
      "execution_count": 5,
      "outputs": [
        {
          "output_type": "stream",
          "name": "stdout",
          "text": [
            "Python 3.7.17\n"
          ]
        }
      ]
    },
    {
      "cell_type": "markdown",
      "source": [
        "# Install Python Packages\n",
        "\n",
        "Required Python packages are"
      ],
      "metadata": {
        "id": "JwnAFO5JLy_E"
      }
    }
  ]
}