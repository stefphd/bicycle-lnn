{
  "nbformat": 4,
  "nbformat_minor": 0,
  "metadata": {
    "colab": {
      "provenance": [],
      "authorship_tag": "ABX9TyMnI4I05ScMkOnw2BwYONXw",
      "include_colab_link": true
    },
    "kernelspec": {
      "name": "python3",
      "display_name": "Python 3"
    },
    "language_info": {
      "name": "python"
    }
  },
  "cells": [
    {
      "cell_type": "markdown",
      "metadata": {
        "id": "view-in-github",
        "colab_type": "text"
      },
      "source": [
        "<a href=\"https://colab.research.google.com/github/stefphd/bicycle-lnn/blob/main/main.ipynb\" target=\"_parent\"><img src=\"https://colab.research.google.com/assets/colab-badge.svg\" alt=\"Open In Colab\"/></a>"
      ]
    },
    {
      "cell_type": "markdown",
      "source": [
        "# Lagragian Neural Network for Bycicle Dynamics\n",
        "\n",
        "This code identify the bicycle dynamics using a Lagragian Neural Network, with the method proposed in [this paper](https://arxiv.org/abs/2003.04630). This is similar to the DeLaN method (see [this papar](https://arxiv.org/abs/1907.04490)), with the difference that the method is suitable for system involving Lagragian of different forms, including e.g. non-holonomic contraints (as in the bicycle dynamics). The DeLaN method is instead confined to mechanical systems having potential and kinetic energy only (e.g. standard robots)."
      ],
      "metadata": {
        "id": "HzqtIjHYI4RL"
      }
    },
    {
      "cell_type": "markdown",
      "source": [
        "## Set the Python environment\n",
        "\n",
        "Python 3.7 is being used for compatibility. Here the Python version is forced to be 3.7 (just installation and setting stuff)."
      ],
      "metadata": {
        "id": "LLI1lSISKY8q"
      }
    },
    {
      "cell_type": "code",
      "source": [
        "!sudo apt update -y # update repos\n",
        "!sudo apt install python3.7 # install python 3.7\n",
        "from IPython.display import clear_output # just to clean the output of Colab\n",
        "clear_output()\n",
        "!sudo update-alternatives --install /usr/bin/python3 python3 /usr/bin/python3.7 1 # set installed python3.7 as python3\n",
        "!sudo apt install python3-pip # install pip\n",
        "!sudo apt install python3.7-distutils # install distutils according to the installer python version\n",
        "clear_output()\n",
        "!python3 --version # check the version"
      ],
      "metadata": {
        "colab": {
          "base_uri": "https://localhost:8080/"
        },
        "id": "kA_J_cx1Kdx7",
        "outputId": "8286fb7f-5b49-4edc-d84d-49cf69f593d9"
      },
      "execution_count": 1,
      "outputs": [
        {
          "output_type": "stream",
          "name": "stdout",
          "text": [
            "Python 3.7.17\n"
          ]
        }
      ]
    },
    {
      "cell_type": "markdown",
      "source": [
        "# Install and Import Python Packages\n",
        "\n",
        "Required Python packages are:\n",
        "\n",
        "* jax (version 0.1.58) & jaxlib (version 0.1.36)\n",
        "* numpy (included with jaxlib installation)"
      ],
      "metadata": {
        "id": "JwnAFO5JLy_E"
      }
    },
    {
      "cell_type": "code",
      "source": [
        "!pip install install --upgrade https://storage.googleapis.com/jax-releases/cuda101/jaxlib-0.1.36-cp37-none-linux_x86_64.whl\n",
        "!pip install --upgrade -q jax==0.1.58"
      ],
      "metadata": {
        "id": "gnosUGo6MWVn",
        "outputId": "df3f61cf-25ca-4b34-c2d9-036fb20818b9",
        "colab": {
          "base_uri": "https://localhost:8080/"
        }
      },
      "execution_count": 3,
      "outputs": [
        {
          "output_type": "stream",
          "name": "stdout",
          "text": [
            "Collecting jaxlib==0.1.36\n",
            "  Using cached https://storage.googleapis.com/jax-releases/cuda101/jaxlib-0.1.36-cp37-none-linux_x86_64.whl (48.2 MB)\n",
            "Requirement already satisfied: install in /usr/local/lib/python3.7/dist-packages (1.3.5)\n",
            "Requirement already satisfied: scipy in /usr/local/lib/python3.7/dist-packages (from jaxlib==0.1.36) (1.7.3)\n",
            "Requirement already satisfied: numpy>=1.12 in /usr/local/lib/python3.7/dist-packages (from jaxlib==0.1.36) (1.21.6)\n",
            "Requirement already satisfied: protobuf>=3.6.0 in /usr/local/lib/python3.7/dist-packages (from jaxlib==0.1.36) (4.24.2)\n",
            "Requirement already satisfied: absl-py in /usr/local/lib/python3.7/dist-packages (from jaxlib==0.1.36) (1.4.0)\n",
            "Requirement already satisfied: six in /usr/lib/python3/dist-packages (from jaxlib==0.1.36) (1.16.0)\n",
            "\u001b[33mWARNING: Running pip as the 'root' user can result in broken permissions and conflicting behaviour with the system package manager. It is recommended to use a virtual environment instead: https://pip.pypa.io/warnings/venv\u001b[0m\u001b[33m\n",
            "\u001b[0m\u001b[33mWARNING: Running pip as the 'root' user can result in broken permissions and conflicting behaviour with the system package manager. It is recommended to use a virtual environment instead: https://pip.pypa.io/warnings/venv\u001b[0m\u001b[33m\n",
            "\u001b[0m"
          ]
        }
      ]
    },
    {
      "cell_type": "code",
      "source": [
        "# jax imports\n",
        "import jax\n",
        "import jax.numpy as jnp\n",
        "from jax.example_libraries import stax\n",
        "from jax.example_libraries import optimizers\n",
        "\n",
        "# utils\n",
        "import scipy.io # to import mat files\n",
        "\n",
        "# visualization\n",
        "import matplotlib.pyplot as plt\n",
        "from functools import partial # reduces args to function by making some subset implicit\n",
        "\n"
      ],
      "metadata": {
        "id": "klp-QbMrQNKL"
      },
      "execution_count": 5,
      "outputs": []
    },
    {
      "cell_type": "markdown",
      "source": [
        "## Import the data\n",
        "\n",
        "Experimental bicycle data are imported from a MAT file."
      ],
      "metadata": {
        "id": "uRzbLLMsP4xa"
      }
    },
    {
      "cell_type": "code",
      "source": [],
      "metadata": {
        "id": "d_BCtkWYQBgF"
      },
      "execution_count": null,
      "outputs": []
    }
  ]
}