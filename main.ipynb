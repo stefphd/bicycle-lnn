{
  "nbformat": 4,
  "nbformat_minor": 0,
  "metadata": {
    "colab": {
      "provenance": [],
      "authorship_tag": "ABX9TyMdCWEwso6j/nEykgp04rUB",
      "include_colab_link": true
    },
    "kernelspec": {
      "name": "python3",
      "display_name": "Python 3"
    },
    "language_info": {
      "name": "python"
    }
  },
  "cells": [
    {
      "cell_type": "markdown",
      "metadata": {
        "id": "view-in-github",
        "colab_type": "text"
      },
      "source": [
        "<a href=\"https://colab.research.google.com/github/stefphd/bicycle-lnn/blob/main/main.ipynb\" target=\"_parent\"><img src=\"https://colab.research.google.com/assets/colab-badge.svg\" alt=\"Open In Colab\"/></a>"
      ]
    },
    {
      "cell_type": "markdown",
      "source": [
        "# Lagragian Neural Network for Bycicle Dynamics\n",
        "\n",
        "This code identify the bicycle dynamics using a Lagragian Neural Network, with the method proposed in [this paper](https://arxiv.org/abs/2003.04630). This is similar to the DeLaN method (see [this papar](https://arxiv.org/abs/1907.04490)), with the difference that the method is suitable for system involving Lagragian of different forms, including e.g. non-holonomic contraints (as in the bicycle dynamics). The DeLaN method is instead confined to mechanical systems having potential and kinetic energy only (e.g. standard robots)."
      ],
      "metadata": {
        "id": "HzqtIjHYI4RL"
      }
    },
    {
      "cell_type": "markdown",
      "source": [
        "## Set environment\n",
        "\n",
        "### Set the Python environment\n",
        "\n",
        "Python 3.7 is being used for compatibility. Here the Python version is forced to be 3.7 (just installation and setting stuff)."
      ],
      "metadata": {
        "id": "LLI1lSISKY8q"
      }
    },
    {
      "cell_type": "code",
      "source": [
        "!sudo apt update -y # update repos\n",
        "!sudo apt install python3.7 # install python 3.7\n",
        "from IPython.display import clear_output # just to clean the output of Colab\n",
        "clear_output()\n",
        "!sudo update-alternatives --install /usr/bin/python3 python3 /usr/bin/python3.7 1 # set installed python3.7 as python3\n",
        "!sudo apt install python3-pip # install pip\n",
        "!sudo apt install python3.7-distutils # install distutils according to the installer python version\n",
        "clear_output()\n",
        "!python3 --version # check the version"
      ],
      "metadata": {
        "colab": {
          "base_uri": "https://localhost:8080/"
        },
        "id": "kA_J_cx1Kdx7",
        "outputId": "cc31d546-1a15-4e8d-fff2-ffa48ba083b0"
      },
      "execution_count": 82,
      "outputs": [
        {
          "output_type": "stream",
          "name": "stdout",
          "text": [
            "Python 3.7.17\n"
          ]
        }
      ]
    },
    {
      "cell_type": "markdown",
      "source": [
        "### Install and Import Python Packages\n",
        "\n",
        "Required Python packages are:\n",
        "\n",
        "* jax (version 0.1.58) & jaxlib (version 0.1.36)\n",
        "* numpy (included with jaxlib installation)"
      ],
      "metadata": {
        "id": "JwnAFO5JLy_E"
      }
    },
    {
      "cell_type": "code",
      "source": [
        "!pip install install --upgrade https://storage.googleapis.com/jax-releases/cuda101/jaxlib-0.1.36-cp37-none-linux_x86_64.whl\n",
        "!pip install --upgrade -q jax==0.1.58"
      ],
      "metadata": {
        "id": "gnosUGo6MWVn",
        "outputId": "0071222b-965a-4cbc-c1ae-9ed3fb7a392f",
        "colab": {
          "base_uri": "https://localhost:8080/"
        }
      },
      "execution_count": 83,
      "outputs": [
        {
          "output_type": "stream",
          "name": "stdout",
          "text": [
            "Collecting jaxlib==0.1.36\n",
            "  Using cached https://storage.googleapis.com/jax-releases/cuda101/jaxlib-0.1.36-cp37-none-linux_x86_64.whl (48.2 MB)\n",
            "Requirement already satisfied: install in /usr/local/lib/python3.7/dist-packages (1.3.5)\n",
            "Requirement already satisfied: scipy in /usr/local/lib/python3.7/dist-packages (from jaxlib==0.1.36) (1.7.3)\n",
            "Requirement already satisfied: absl-py in /usr/local/lib/python3.7/dist-packages (from jaxlib==0.1.36) (1.4.0)\n",
            "Requirement already satisfied: six in /usr/lib/python3/dist-packages (from jaxlib==0.1.36) (1.16.0)\n",
            "Requirement already satisfied: numpy>=1.12 in /usr/local/lib/python3.7/dist-packages (from jaxlib==0.1.36) (1.21.6)\n",
            "Requirement already satisfied: protobuf>=3.6.0 in /usr/local/lib/python3.7/dist-packages (from jaxlib==0.1.36) (4.24.2)\n",
            "\u001b[33mWARNING: Running pip as the 'root' user can result in broken permissions and conflicting behaviour with the system package manager. It is recommended to use a virtual environment instead: https://pip.pypa.io/warnings/venv\u001b[0m\u001b[33m\n",
            "\u001b[0m\u001b[33mWARNING: Running pip as the 'root' user can result in broken permissions and conflicting behaviour with the system package manager. It is recommended to use a virtual environment instead: https://pip.pypa.io/warnings/venv\u001b[0m\u001b[33m\n",
            "\u001b[0m"
          ]
        }
      ]
    },
    {
      "cell_type": "code",
      "source": [
        "# jax imports\n",
        "import jax\n",
        "import jax.numpy as jnp\n",
        "from jax.example_libraries import stax\n",
        "from jax.example_libraries import optimizers\n",
        "\n",
        "# utils\n",
        "import scipy.io as scio# to import mat files\n",
        "import numpy as np\n",
        "\n",
        "# visualization\n",
        "import matplotlib.pyplot as plt\n",
        "from functools import partial # reduces args to function by making some subset implicit"
      ],
      "metadata": {
        "id": "klp-QbMrQNKL"
      },
      "execution_count": 85,
      "outputs": []
    },
    {
      "cell_type": "markdown",
      "source": [
        "## Data elaboration\n",
        "\n",
        "### Import the data\n",
        "\n",
        "Experimental bicycle data are imported from a MAT file."
      ],
      "metadata": {
        "id": "uRzbLLMsP4xa"
      }
    },
    {
      "cell_type": "code",
      "source": [
        "filename = \"https://github.com/stefphd/bicycle-lnn/raw/main/data/2022-09-14_FrequencyBand_20kph-test1.mat\" # name of the data file (MAT)\n",
        "\n",
        "!wget {filename} -O \"data.mat\"\n",
        "clear_output()\n",
        "datamat = scio.loadmat(\"data.mat\")\n",
        "\n",
        "print(datamat.keys()) # print fields of datamat\n",
        "datamat[\"time\"] = datamat[\"time\"] - datamat[\"time\"][0]; # set initial time to 0\n",
        "datamat[\"sample\"] = datamat[\"sample\"] - datamat[\"sample\"][0]; # set initial sample to 0\n"
      ],
      "metadata": {
        "colab": {
          "base_uri": "https://localhost:8080/"
        },
        "id": "d_BCtkWYQBgF",
        "outputId": "a629df36-87ad-4ae5-e615-3568550e5885"
      },
      "execution_count": 87,
      "outputs": [
        {
          "output_type": "stream",
          "name": "stdout",
          "text": [
            "dict_keys(['__header__', '__version__', '__globals__', 'speed', 'distance', 'acc_x', 'acc_y', 'acc_z', 'gyro_x', 'gyro_y', 'gyro_z', 'mag_x', 'mag_y', 'mag_z', 'latitude', 'longitude', 'gps_speed', 'steer_angle', 'steer_rate', 'fork_disp', 'curr_act', 'steer_torque', 'cpu_temp', 'voltage', 'err_state_in', 'curr_ref', 'throttle', 'roll_est', 'yaw_est', 'pos_est_x', 'pos_est_y', 'err_state_out', 'user_data1', 'user_data2', 'user_data3', 'user_data4', 'sample', 'time'])\n"
          ]
        }
      ]
    },
    {
      "cell_type": "markdown",
      "source": [
        "### Split train and test data\n",
        "\n",
        "Train and test data are splitted according to a factor."
      ],
      "metadata": {
        "id": "Y8zQ9gMVmvV5"
      }
    },
    {
      "cell_type": "code",
      "source": [
        "trainfactor = 0.8 # from 0 to 1 (usually 0.8?), percentage of data used for training (1-train_factor is used for testing)\n",
        "\n",
        "datalen = len(datamat[\"time\"])\n",
        "splitlen = round(trainfactor*datalen)\n",
        "\n",
        "# split data\n",
        "traindata = dict() # train data\n",
        "testdata = dict() # test data\n",
        "for key in datamat.keys():\n",
        "  if type(datamat[key]) is np.ndarray:\n",
        "    traindata[key] = datamat[key][:splitlen]\n",
        "    testdata[key] = datamat[key][(splitlen+1):]\n",
        ""
      ],
      "metadata": {
        "id": "pn2Ef3Yam3k6"
      },
      "execution_count": 92,
      "outputs": []
    },
    {
      "cell_type": "markdown",
      "source": [
        "### Plot essential data"
      ],
      "metadata": {
        "id": "Sy5ED6B0mnqO"
      }
    },
    {
      "cell_type": "code",
      "source": [
        "# some plots just to see the data\n",
        "\n",
        "plt.figure(figsize=[10,5])\n",
        "\n",
        "plt.subplot(3,2,1) # speed\n",
        "plt.plot(time,speed)\n",
        "plt.ylabel(\"Speed (m/s)\")\n",
        "\n",
        "plt.subplot(3,2,2) # roll rate\n",
        "plt.plot(time, gyrox)\n",
        "plt.ylabel(\"Roll rate (rad/s)\")\n",
        "\n",
        "plt.subplot(3,2,3) # yaw rate\n",
        "plt.plot(time, gyroz)\n",
        "plt.ylabel(\"Yaw rate (rad/s)\")\n",
        "\n",
        "plt.subplot(3,2,4) # steering angle\n",
        "plt.plot(time, steerangle)\n",
        "plt.ylabel(\"Steering angle (rad)\")\n",
        "\n",
        "plt.subplot(3,2,5) # steering angle\n",
        "plt.plot(time, steerrate)\n",
        "plt.ylabel(\"Steering rate (rad/s)\")\n",
        "\n",
        "plt.xlabel(\"Time (s)\")\n",
        "\n",
        "plt.subplot(3,2,6) # steering torque\n",
        "plt.plot(time, steertorque)\n",
        "plt.ylabel(\"Steering torque (Nm)\")\n",
        "\n",
        "plt.xlabel(\"Time (s)\")"
      ],
      "metadata": {
        "id": "AgE8V151mp4D"
      },
      "execution_count": null,
      "outputs": []
    }
  ]
}